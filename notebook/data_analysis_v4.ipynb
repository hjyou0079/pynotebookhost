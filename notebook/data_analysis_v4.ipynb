{
 "cells": [
  {
   "cell_type": "markdown",
   "metadata": {},
   "source": [
    "# Data Analysis Examples\n",
    "\n",
    "This notebook demonstrates various data analysis techniques using Python libraries."
   ]
  },
  {
   "cell_type": "code",
   "execution_count": null,
   "metadata": {},
   "outputs": [],
   "source": [
    "import numpy as np\n",
    "import pandas as pd\n",
    "import matplotlib.pyplot as plt\n",
    "import seaborn as sns\n",
    "\n",
    "# Set style for better visualizations\n",
    "plt.style.use('seaborn')\n",
    "sns.set_palette('husl')"
   ]
  },
  {
   "cell_type": "markdown",
   "metadata": {},
   "source": [
    "## Generate Sample Dataset"
   ]
  },
  {
   "cell_type": "code",
   "execution_count": null,
   "metadata": {},
   "outputs": [],
   "source": [
    "# Create sample sales data\n",
    "np.random.seed(42)\n",
    "dates = pd.date_range(start='2023-01-01', end='2023-12-31', freq='D')\n",
    "sales_data = pd.DataFrame({\n",
    "    'date': dates,\n",
    "    'sales': np.random.normal(1000, 200, len(dates)),\n",
    "    'category': np.random.choice(['Electronics', 'Clothing', 'Food'], len(dates))\n",
    "})\n",
    "\n",
    "# Display first few rows\n",
    "sales_data.head()"
   ]
  },
  {
   "cell_type": "markdown",
   "metadata": {},
   "source": [
    "## Data Visualization"
   ]
  },
  {
   "cell_type": "code",
   "execution_count": null,
   "metadata": {},
   "outputs": [],
   "source": [
    "# Create monthly sales trend\n",
    "monthly_sales = sales_data.groupby([sales_data['date'].dt.year, \n",
    "                                   sales_data['date'].dt.month])['sales'].mean()\n",
    "\n",
    "plt.figure(figsize=(12, 6))\n",
    "monthly_sales.plot(kind='line', marker='o')\n",
    "plt.title('Monthly Average Sales Trend')\n",
    "plt.xlabel('Month')\n",
    "plt.ylabel('Average Sales')\n",
    "plt.grid(True)\n",
    "plt.show()"
   ]
  },
  {
   "cell_type": "code",
   "execution_count": null,
   "metadata": {},
   "outputs": [],
   "source": [
    "# Sales distribution by category\n",
    "plt.figure(figsize=(10, 6))\n",
    "sns.boxplot(x='category', y='sales', data=sales_data)\n",
    "plt.title('Sales Distribution by Category')\n",
    "plt.show()"
   ]
  },
  {
   "cell_type": "markdown",
   "metadata": {},
   "source": [
    "## Statistical Analysis"
   ]
  },
  {
   "cell_type": "code",
   "execution_count": null,
   "metadata": {},
   "outputs": [],
   "source": [
    "# Basic statistics by category\n",
    "stats_by_category = sales_data.groupby('category')['sales'].agg([\n",
    "    'count', 'mean', 'std', 'min', 'max'\n",
    "]).round(2)\n",
    "\n",
    "print(\"Statistical Summary by Category:\")\n",
    "display(stats_by_category)"
   ]
  }
 ],
 "metadata": {
  "kernelspec": {
   "display_name": "Python 3",
   "language": "python",
   "name": "python3"
  },
  "language_info": {
   "codemirror_mode": {
    "name": "ipython",
    "version": 3
   },
   "file_extension": ".py",
   "mimetype": "text/x-python",
   "name": "python",
   "nbconvert_exporter": "python",
   "pygments_lexer": "ipython3",
   "version": "3.8.0"
  }
 },
 "nbformat": 4,
 "nbformat_minor": 4
}